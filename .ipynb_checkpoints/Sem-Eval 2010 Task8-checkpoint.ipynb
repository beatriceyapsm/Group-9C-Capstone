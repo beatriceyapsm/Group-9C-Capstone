{
 "cells": [
  {
   "cell_type": "markdown",
   "metadata": {},
   "source": [
    "## Group 9C SemEval2010 Task8"
   ]
  },
  {
   "cell_type": "markdown",
   "metadata": {},
   "source": [
    "## Step 1: Data preparation"
   ]
  },
  {
   "cell_type": "markdown",
   "metadata": {},
   "source": [
    "#### modules used"
   ]
  },
  {
   "cell_type": "code",
   "execution_count": 1,
   "metadata": {},
   "outputs": [
    {
     "ename": "ModuleNotFoundError",
     "evalue": "No module named 'pandas'",
     "output_type": "error",
     "traceback": [
      "\u001b[1;31m---------------------------------------------------------------------------\u001b[0m",
      "\u001b[1;31mModuleNotFoundError\u001b[0m                       Traceback (most recent call last)",
      "Input \u001b[1;32mIn [1]\u001b[0m, in \u001b[0;36m<cell line: 1>\u001b[1;34m()\u001b[0m\n\u001b[1;32m----> 1\u001b[0m \u001b[38;5;28;01mimport\u001b[39;00m \u001b[38;5;21;01mpandas\u001b[39;00m \u001b[38;5;28;01mas\u001b[39;00m \u001b[38;5;21;01mpd\u001b[39;00m        \u001b[38;5;66;03m#data analysis and manipulation library for Python\u001b[39;00m\n\u001b[0;32m      2\u001b[0m \u001b[38;5;28;01mimport\u001b[39;00m \u001b[38;5;21;01mnumpy\u001b[39;00m \u001b[38;5;28;01mas\u001b[39;00m \u001b[38;5;21;01mnp\u001b[39;00m         \u001b[38;5;66;03m#mathematical operations over arrays\u001b[39;00m\n\u001b[0;32m      4\u001b[0m train_data \u001b[38;5;241m=\u001b[39m [] \n",
      "\u001b[1;31mModuleNotFoundError\u001b[0m: No module named 'pandas'"
     ]
    }
   ],
   "source": [
    "import pandas as pd        #data analysis and manipulation library for Python\n",
    "import numpy as np         #mathematical operations over arrays\n",
    "\n",
    "train_data = [] \n",
    "train_target = []\n",
    "test_data = []\n",
    "test_target = []"
   ]
  },
  {
   "cell_type": "markdown",
   "metadata": {},
   "source": [
    "#### funtions used in multiple places"
   ]
  },
  {
   "cell_type": "code",
   "execution_count": 12,
   "metadata": {},
   "outputs": [],
   "source": [
    "#Import files into a dataframe\n",
    "def import_text(file_txt):\n",
    "    \n",
    "    colnames=['ID', 'Text'] \n",
    "    \n",
    "    df = pd.read_csv(file_txt\n",
    "                       ,skip_blank_lines=True   #input files have emplty lines\n",
    "                       ,header=None             #no haeders\n",
    "                       ,sep='\\t'                #tab delimited\n",
    "                       ,engine='python'         #engine\n",
    "                       ,quotechar='^'           #if there are doublequotes in the text\n",
    "                       ,comment='Comment:'      #this is for human reader, we don't need\n",
    "                       ,names=colnames          #preset columns we need\n",
    "                      )\n",
    "    print(\"Number of rows: \", len(df.index))\n",
    "\n",
    "    return df"
   ]
  },
  {
   "cell_type": "code",
   "execution_count": 13,
   "metadata": {},
   "outputs": [],
   "source": [
    "#clean \"\"\n",
    "def clean_doublequotes(df):\n",
    "    return df.replace('\"', '', regex=True)"
   ]
  },
  {
   "cell_type": "code",
   "execution_count": 14,
   "metadata": {},
   "outputs": [],
   "source": [
    "#clean tags e.g. <e2>\n",
    "#def clean_tags(df_column,braket_type):\n",
    " #   return df_column.str.replace(r'<.*?>', '', regex=True)"
   ]
  },
  {
   "cell_type": "code",
   "execution_count": 15,
   "metadata": {},
   "outputs": [],
   "source": [
    "#clean tags e.g. (e2,e1)\n",
    "def clean_tags(df_column,braket_type):\n",
    "    \n",
    "    if braket_type == 'angle':\n",
    "        pattern = r'<.*?>'\n",
    "    elif braket_type == 'round':\n",
    "        pattern = r'(\\(.*?\\))'\n",
    "    else:\n",
    "        raise Exception(\"angle or round\")\n",
    "    \n",
    "    return df_column.str.replace(pattern, '', regex=True)"
   ]
  },
  {
   "cell_type": "code",
   "execution_count": 16,
   "metadata": {},
   "outputs": [],
   "source": [
    "#check output file\n",
    "def check_csv(file_txt):\n",
    "    df = pd.read_csv(file_txt, header=None)\n",
    "    \n",
    "    if bool(show_data): print (df.head(2))\n",
    "    \n",
    "    print(\"Number of rows: \", len(df.index))\n",
    "\n",
    "    return "
   ]
  },
  {
   "cell_type": "code",
   "execution_count": 17,
   "metadata": {},
   "outputs": [],
   "source": [
    "#create tuple of keys\n",
    "keys = ('Other','Cause-Effect','Product-Producer','Entity-Origin','Instrument-Agency','Component-Whole','Content-Container','Entity-Destination','Member-Collection','Message-Topic')\n",
    "#for i in range(len(keys)): print(i, keys[i])"
   ]
  },
  {
   "cell_type": "code",
   "execution_count": 48,
   "metadata": {},
   "outputs": [],
   "source": [
    "def prepare_file(file_name,use):\n",
    "    \n",
    "    #Import training file into a dataframe\n",
    "    df = import_text(file_name)\n",
    "\n",
    "    #clean \"\"\n",
    "    df = clean_doublequotes(df)\n",
    "\n",
    "    # combine rows 1&2\n",
    "    df['Clasification'] = df['ID'].shift(-1)\n",
    "\n",
    "    #remove leftover rows\n",
    "    df = df[df.Text.notna()]\n",
    "\n",
    "    #clean tags e.g. <e2> - better option would be to keep them and use for more precise prediction\n",
    "    df.Text = clean_tags(df.Text,braket_type='angle')\n",
    "\n",
    "    #clean tags e.g. (e2,e1) - better option would be to keep them and use for more precise prediction\n",
    "    df.Clasification = clean_tags(df.Clasification,braket_type='round')\n",
    "\n",
    "    #Map Keys to numbers\n",
    "    df['Clasification_ID'] = df.Clasification.map(lambda x: keys.index(x))\n",
    "\n",
    "    #to use in thes same file\n",
    "    if use == 'train':\n",
    "        global train_data\n",
    "        train_data = df.Text\n",
    "        \n",
    "        global train_target\n",
    "        train_target = df.Clasification_ID\n",
    "    elif use == 'test':\n",
    "        global test_data\n",
    "        test_data = df.Text\n",
    "        \n",
    "        global test_target\n",
    "        test_target = df.Clasification_ID\n",
    "\n",
    "    #check\n",
    "    print('Output rows:', len(df.index))\n",
    "  \n",
    "    return df"
   ]
  },
  {
   "cell_type": "markdown",
   "metadata": {},
   "source": [
    "#### Prepare Training file"
   ]
  },
  {
   "cell_type": "code",
   "execution_count": 49,
   "metadata": {},
   "outputs": [
    {
     "name": "stdout",
     "output_type": "stream",
     "text": [
      "Number of rows:  16000\n",
      "Output rows: 8000\n"
     ]
    },
    {
     "data": {
      "text/html": [
       "<div>\n",
       "<style scoped>\n",
       "    .dataframe tbody tr th:only-of-type {\n",
       "        vertical-align: middle;\n",
       "    }\n",
       "\n",
       "    .dataframe tbody tr th {\n",
       "        vertical-align: top;\n",
       "    }\n",
       "\n",
       "    .dataframe thead th {\n",
       "        text-align: right;\n",
       "    }\n",
       "</style>\n",
       "<table border=\"1\" class=\"dataframe\">\n",
       "  <thead>\n",
       "    <tr style=\"text-align: right;\">\n",
       "      <th></th>\n",
       "      <th>ID</th>\n",
       "      <th>Text</th>\n",
       "      <th>Clasification</th>\n",
       "      <th>Clasification_ID</th>\n",
       "    </tr>\n",
       "  </thead>\n",
       "  <tbody>\n",
       "    <tr>\n",
       "      <th>0</th>\n",
       "      <td>1</td>\n",
       "      <td>The system as described above has its greatest...</td>\n",
       "      <td>Component-Whole</td>\n",
       "      <td>5</td>\n",
       "    </tr>\n",
       "    <tr>\n",
       "      <th>2</th>\n",
       "      <td>2</td>\n",
       "      <td>The child was carefully wrapped and bound into...</td>\n",
       "      <td>Other</td>\n",
       "      <td>0</td>\n",
       "    </tr>\n",
       "    <tr>\n",
       "      <th>4</th>\n",
       "      <td>3</td>\n",
       "      <td>The author of a keygen uses a disassembler to ...</td>\n",
       "      <td>Instrument-Agency</td>\n",
       "      <td>4</td>\n",
       "    </tr>\n",
       "    <tr>\n",
       "      <th>6</th>\n",
       "      <td>4</td>\n",
       "      <td>A misty ridge uprises from the surge.</td>\n",
       "      <td>Other</td>\n",
       "      <td>0</td>\n",
       "    </tr>\n",
       "    <tr>\n",
       "      <th>8</th>\n",
       "      <td>5</td>\n",
       "      <td>The student association is the voice of the un...</td>\n",
       "      <td>Member-Collection</td>\n",
       "      <td>8</td>\n",
       "    </tr>\n",
       "  </tbody>\n",
       "</table>\n",
       "</div>"
      ],
      "text/plain": [
       "  ID                                               Text      Clasification  \\\n",
       "0  1  The system as described above has its greatest...    Component-Whole   \n",
       "2  2  The child was carefully wrapped and bound into...              Other   \n",
       "4  3  The author of a keygen uses a disassembler to ...  Instrument-Agency   \n",
       "6  4              A misty ridge uprises from the surge.              Other   \n",
       "8  5  The student association is the voice of the un...  Member-Collection   \n",
       "\n",
       "   Clasification_ID  \n",
       "0                 5  \n",
       "2                 0  \n",
       "4                 4  \n",
       "6                 0  \n",
       "8                 8  "
      ]
     },
     "execution_count": 49,
     "metadata": {},
     "output_type": "execute_result"
    }
   ],
   "source": [
    "#prepare file\n",
    "df_train = prepare_file('semeval2010task8_train.txt','train')\n",
    "\n",
    "df_train.head(5)"
   ]
  },
  {
   "cell_type": "code",
   "execution_count": 50,
   "metadata": {},
   "outputs": [
    {
     "name": "stdout",
     "output_type": "stream",
     "text": [
      "Number of rows:  5434\n",
      "Output rows: 2717\n"
     ]
    },
    {
     "data": {
      "text/html": [
       "<div>\n",
       "<style scoped>\n",
       "    .dataframe tbody tr th:only-of-type {\n",
       "        vertical-align: middle;\n",
       "    }\n",
       "\n",
       "    .dataframe tbody tr th {\n",
       "        vertical-align: top;\n",
       "    }\n",
       "\n",
       "    .dataframe thead th {\n",
       "        text-align: right;\n",
       "    }\n",
       "</style>\n",
       "<table border=\"1\" class=\"dataframe\">\n",
       "  <thead>\n",
       "    <tr style=\"text-align: right;\">\n",
       "      <th></th>\n",
       "      <th>ID</th>\n",
       "      <th>Text</th>\n",
       "      <th>Clasification</th>\n",
       "      <th>Clasification_ID</th>\n",
       "    </tr>\n",
       "  </thead>\n",
       "  <tbody>\n",
       "    <tr>\n",
       "      <th>0</th>\n",
       "      <td>8001</td>\n",
       "      <td>The most common audits were about waste and re...</td>\n",
       "      <td>Message-Topic</td>\n",
       "      <td>9</td>\n",
       "    </tr>\n",
       "    <tr>\n",
       "      <th>2</th>\n",
       "      <td>8002</td>\n",
       "      <td>The company fabricates plastic chairs.</td>\n",
       "      <td>Product-Producer</td>\n",
       "      <td>2</td>\n",
       "    </tr>\n",
       "    <tr>\n",
       "      <th>4</th>\n",
       "      <td>8003</td>\n",
       "      <td>The school master teaches the lesson with a st...</td>\n",
       "      <td>Instrument-Agency</td>\n",
       "      <td>4</td>\n",
       "    </tr>\n",
       "    <tr>\n",
       "      <th>6</th>\n",
       "      <td>8004</td>\n",
       "      <td>The suspect dumped the dead body into a local ...</td>\n",
       "      <td>Entity-Destination</td>\n",
       "      <td>7</td>\n",
       "    </tr>\n",
       "    <tr>\n",
       "      <th>8</th>\n",
       "      <td>8005</td>\n",
       "      <td>Avian influenza is an infectious disease of bi...</td>\n",
       "      <td>Cause-Effect</td>\n",
       "      <td>1</td>\n",
       "    </tr>\n",
       "  </tbody>\n",
       "</table>\n",
       "</div>"
      ],
      "text/plain": [
       "     ID                                               Text  \\\n",
       "0  8001  The most common audits were about waste and re...   \n",
       "2  8002             The company fabricates plastic chairs.   \n",
       "4  8003  The school master teaches the lesson with a st...   \n",
       "6  8004  The suspect dumped the dead body into a local ...   \n",
       "8  8005  Avian influenza is an infectious disease of bi...   \n",
       "\n",
       "        Clasification  Clasification_ID  \n",
       "0       Message-Topic                 9  \n",
       "2    Product-Producer                 2  \n",
       "4   Instrument-Agency                 4  \n",
       "6  Entity-Destination                 7  \n",
       "8        Cause-Effect                 1  "
      ]
     },
     "execution_count": 50,
     "metadata": {},
     "output_type": "execute_result"
    }
   ],
   "source": [
    "df_test = prepare_file('semeval2010task8_test.txt','test')\n",
    "\n",
    "df_test.head(5)"
   ]
  },
  {
   "cell_type": "markdown",
   "metadata": {},
   "source": [
    "## Step 2: training models"
   ]
  },
  {
   "cell_type": "code",
   "execution_count": 51,
   "metadata": {},
   "outputs": [],
   "source": [
    "# use the TF-IDF vectorizer and create a pipeline that attaches it to a multinomial naive Bayes classifier\n",
    "from sklearn.feature_extraction.text import TfidfVectorizer    #Convert a collection of raw documents to a matrix of TF-IDF features\n",
    "from sklearn.naive_bayes import MultinomialNB                  #multinomial Naive Bayes classifier is suitable for classification with discrete features\n",
    "from sklearn.pipeline import make_pipeline                     #Construct a Pipeline from the given estimators\n",
    "\n",
    "#show data\n",
    "import seaborn as sns; sns.set()                               #data visualization library based on matplotlib\n",
    "import matplotlib.pyplot as plt                                #interactive plots \n",
    "from sklearn.metrics import confusion_matrix                   #Compute confusion matrix to evaluate the accuracy of a classification"
   ]
  },
  {
   "cell_type": "markdown",
   "metadata": {},
   "source": [
    "### Train model 1: Multinomial Naive Bayes (standard parameters)"
   ]
  },
  {
   "cell_type": "code",
   "execution_count": 52,
   "metadata": {},
   "outputs": [],
   "source": [
    "model = make_pipeline(TfidfVectorizer(), MultinomialNB())"
   ]
  },
  {
   "cell_type": "code",
   "execution_count": 53,
   "metadata": {},
   "outputs": [],
   "source": [
    "#TO READ: https://jakevdp.github.io/PythonDataScienceHandbook/05.04-feature-engineering.html"
   ]
  },
  {
   "cell_type": "code",
   "execution_count": 54,
   "metadata": {
    "scrolled": true
   },
   "outputs": [],
   "source": [
    "#With this pipeline, we can apply the model to the training data, and predict labels for the test data\n",
    "model.fit(train_data, train_target)\n",
    "labels = model.predict(test_data)"
   ]
  },
  {
   "cell_type": "code",
   "execution_count": 56,
   "metadata": {},
   "outputs": [
    {
     "data": {
      "text/plain": [
       "<Figure size 4800x4800 with 0 Axes>"
      ]
     },
     "execution_count": 56,
     "metadata": {},
     "output_type": "execute_result"
    },
    {
     "data": {
      "image/png": "[encoded data removed]",
      "text/plain": [
       "<Figure size 432x288 with 1 Axes>"
      ]
     },
     "metadata": {},
     "output_type": "display_data"
    },
    {
     "data": {
      "text/plain": [
       "<Figure size 4800x4800 with 0 Axes>"
      ]
     },
     "metadata": {},
     "output_type": "display_data"
    }
   ],
   "source": [
    "#evaluate the performance of the estimator with confusion matrix between the true and predicted labels for the test data\n",
    "plt.rcParams['font.size'] = '26'\n",
    "mat = confusion_matrix(test_target, labels)\n",
    "sns.heatmap(mat.T, square=True, annot=True, fmt='d', cbar=False, xticklabels=keys, yticklabels=keys)\n",
    "\n",
    "plt.xlabel('true label')\n",
    "plt.ylabel('predicted label')\n",
    "\n",
    "from matplotlib.pyplot import figure\n",
    "figure(figsize=(6, 6), dpi=800)"
   ]
  },
  {
   "cell_type": "code",
   "execution_count": 57,
   "metadata": {},
   "outputs": [
    {
     "name": "stdout",
     "output_type": "stream",
     "text": [
      "Multinomial Naive Bayes Model Accuracy = 34.560176665439826 %\n"
     ]
    }
   ],
   "source": [
    "accuracy_for_test_keys = np.mean(labels == test_target)\n",
    "print(\"Multinomial Naive Bayes Model Accuracy = {} %\".format(accuracy_for_test_keys*100))"
   ]
  },
  {
   "cell_type": "code",
   "execution_count": 58,
   "metadata": {},
   "outputs": [],
   "source": [
    "def predict_category(s, train=keys, model=model):\n",
    "    pred = model.predict([s])\n",
    "    return train[pred[0]]"
   ]
  },
  {
   "cell_type": "code",
   "execution_count": 59,
   "metadata": {},
   "outputs": [],
   "source": [
    "df_test['Calculated_Clasification_ID'] = labels"
   ]
  },
  {
   "cell_type": "code",
   "execution_count": 60,
   "metadata": {},
   "outputs": [],
   "source": [
    "df_test['Calculated_Clasification'] = df_test.Calculated_Clasification_ID.map(lambda x: keys[x])"
   ]
  },
  {
   "cell_type": "code",
   "execution_count": 61,
   "metadata": {},
   "outputs": [
    {
     "data": {
      "text/html": [
       "<div>\n",
       "<style scoped>\n",
       "    .dataframe tbody tr th:only-of-type {\n",
       "        vertical-align: middle;\n",
       "    }\n",
       "\n",
       "    .dataframe tbody tr th {\n",
       "        vertical-align: top;\n",
       "    }\n",
       "\n",
       "    .dataframe thead th {\n",
       "        text-align: right;\n",
       "    }\n",
       "</style>\n",
       "<table border=\"1\" class=\"dataframe\">\n",
       "  <thead>\n",
       "    <tr style=\"text-align: right;\">\n",
       "      <th></th>\n",
       "      <th>ID</th>\n",
       "      <th>Text</th>\n",
       "      <th>Clasification</th>\n",
       "      <th>Clasification_ID</th>\n",
       "      <th>Calculated_Clasification_ID</th>\n",
       "      <th>Calculated_Clasification</th>\n",
       "    </tr>\n",
       "  </thead>\n",
       "  <tbody>\n",
       "    <tr>\n",
       "      <th>0</th>\n",
       "      <td>8001</td>\n",
       "      <td>The most common audits were about waste and re...</td>\n",
       "      <td>Message-Topic</td>\n",
       "      <td>9</td>\n",
       "      <td>1</td>\n",
       "      <td>Cause-Effect</td>\n",
       "    </tr>\n",
       "    <tr>\n",
       "      <th>2</th>\n",
       "      <td>8002</td>\n",
       "      <td>The company fabricates plastic chairs.</td>\n",
       "      <td>Product-Producer</td>\n",
       "      <td>2</td>\n",
       "      <td>0</td>\n",
       "      <td>Other</td>\n",
       "    </tr>\n",
       "    <tr>\n",
       "      <th>4</th>\n",
       "      <td>8003</td>\n",
       "      <td>The school master teaches the lesson with a st...</td>\n",
       "      <td>Instrument-Agency</td>\n",
       "      <td>4</td>\n",
       "      <td>0</td>\n",
       "      <td>Other</td>\n",
       "    </tr>\n",
       "    <tr>\n",
       "      <th>6</th>\n",
       "      <td>8004</td>\n",
       "      <td>The suspect dumped the dead body into a local ...</td>\n",
       "      <td>Entity-Destination</td>\n",
       "      <td>7</td>\n",
       "      <td>7</td>\n",
       "      <td>Entity-Destination</td>\n",
       "    </tr>\n",
       "    <tr>\n",
       "      <th>8</th>\n",
       "      <td>8005</td>\n",
       "      <td>Avian influenza is an infectious disease of bi...</td>\n",
       "      <td>Cause-Effect</td>\n",
       "      <td>1</td>\n",
       "      <td>1</td>\n",
       "      <td>Cause-Effect</td>\n",
       "    </tr>\n",
       "    <tr>\n",
       "      <th>10</th>\n",
       "      <td>8006</td>\n",
       "      <td>The ear of the African elephant is significant...</td>\n",
       "      <td>Component-Whole</td>\n",
       "      <td>5</td>\n",
       "      <td>0</td>\n",
       "      <td>Other</td>\n",
       "    </tr>\n",
       "    <tr>\n",
       "      <th>12</th>\n",
       "      <td>8007</td>\n",
       "      <td>A child is told a lie for several years by the...</td>\n",
       "      <td>Product-Producer</td>\n",
       "      <td>2</td>\n",
       "      <td>0</td>\n",
       "      <td>Other</td>\n",
       "    </tr>\n",
       "    <tr>\n",
       "      <th>14</th>\n",
       "      <td>8008</td>\n",
       "      <td>Skype, a free software, allows a hookup of mul...</td>\n",
       "      <td>Member-Collection</td>\n",
       "      <td>8</td>\n",
       "      <td>0</td>\n",
       "      <td>Other</td>\n",
       "    </tr>\n",
       "    <tr>\n",
       "      <th>16</th>\n",
       "      <td>8009</td>\n",
       "      <td>The disgusting scene was retaliation against h...</td>\n",
       "      <td>Component-Whole</td>\n",
       "      <td>5</td>\n",
       "      <td>0</td>\n",
       "      <td>Other</td>\n",
       "    </tr>\n",
       "    <tr>\n",
       "      <th>18</th>\n",
       "      <td>8010</td>\n",
       "      <td>This thesis defines the clinical characteristi...</td>\n",
       "      <td>Message-Topic</td>\n",
       "      <td>9</td>\n",
       "      <td>0</td>\n",
       "      <td>Other</td>\n",
       "    </tr>\n",
       "  </tbody>\n",
       "</table>\n",
       "</div>"
      ],
      "text/plain": [
       "      ID                                               Text  \\\n",
       "0   8001  The most common audits were about waste and re...   \n",
       "2   8002             The company fabricates plastic chairs.   \n",
       "4   8003  The school master teaches the lesson with a st...   \n",
       "6   8004  The suspect dumped the dead body into a local ...   \n",
       "8   8005  Avian influenza is an infectious disease of bi...   \n",
       "10  8006  The ear of the African elephant is significant...   \n",
       "12  8007  A child is told a lie for several years by the...   \n",
       "14  8008  Skype, a free software, allows a hookup of mul...   \n",
       "16  8009  The disgusting scene was retaliation against h...   \n",
       "18  8010  This thesis defines the clinical characteristi...   \n",
       "\n",
       "         Clasification  Clasification_ID  Calculated_Clasification_ID  \\\n",
       "0        Message-Topic                 9                            1   \n",
       "2     Product-Producer                 2                            0   \n",
       "4    Instrument-Agency                 4                            0   \n",
       "6   Entity-Destination                 7                            7   \n",
       "8         Cause-Effect                 1                            1   \n",
       "10     Component-Whole                 5                            0   \n",
       "12    Product-Producer                 2                            0   \n",
       "14   Member-Collection                 8                            0   \n",
       "16     Component-Whole                 5                            0   \n",
       "18       Message-Topic                 9                            0   \n",
       "\n",
       "   Calculated_Clasification  \n",
       "0              Cause-Effect  \n",
       "2                     Other  \n",
       "4                     Other  \n",
       "6        Entity-Destination  \n",
       "8              Cause-Effect  \n",
       "10                    Other  \n",
       "12                    Other  \n",
       "14                    Other  \n",
       "16                    Other  \n",
       "18                    Other  "
      ]
     },
     "execution_count": 61,
     "metadata": {},
     "output_type": "execute_result"
    }
   ],
   "source": [
    "df_test.head(10)"
   ]
  },
  {
   "cell_type": "markdown",
   "metadata": {},
   "source": [
    "### Train model 2: Multinomial Naive Bayes (optimized parameters)"
   ]
  },
  {
   "cell_type": "code",
   "execution_count": 62,
   "metadata": {},
   "outputs": [],
   "source": [
    "#https://holypython.com/nbc/naive-bayes-classifier-optimization-parameters/\n",
    "\n",
    "#https://www.geeksforgeeks.org/using-countvectorizer-to-extracting-features-from-text/\n",
    "#model1 = make_pipeline(CountVectorizer(ngram_range=(1,3)), TfidfVectorizer(), MultinomialNB())"
   ]
  },
  {
   "cell_type": "code",
   "execution_count": 65,
   "metadata": {},
   "outputs": [],
   "source": [
    "from sklearn.feature_extraction.text import TfidfTransformer\n",
    "from sklearn.pipeline import Pipeline\n",
    "from sklearn.feature_extraction.text import CountVectorizer\n"
   ]
  },
  {
   "cell_type": "code",
   "execution_count": 66,
   "metadata": {},
   "outputs": [
    {
     "name": "stdout",
     "output_type": "stream",
     "text": [
      "Multinomial Naive Bayes Model Accuracy = 60.50791313949209 %\n"
     ]
    }
   ],
   "source": [
    "#Tokenizing text with scikit-learn we used CountVectorizer\n",
    "count_vector = CountVectorizer()\n",
    "train_counts = count_vector.fit_transform(train_data)\n",
    "\n",
    "# Term Frequencies are calculated which has to be use_idf=True \n",
    "tf_transformer = TfidfTransformer(use_idf=True).fit(train_counts)\n",
    "tf_train = tf_transformer.transform(train_counts)\n",
    "\n",
    "#Term Frequency times Inverse Document Frequency to skipping redundant processing\n",
    "tf_idf_transformer = TfidfTransformer()\n",
    "tf_idf_train = tf_idf_transformer.fit_transform(train_counts)\n",
    "\n",
    "#Training a classifier \n",
    "# Now we took Naive Bayes classifier which provides a nice baseline for this task\n",
    "# We used the Multinomial Naive Bayes\n",
    "#print (tf_idf_train)\n",
    "#print (train_target)\n",
    "multi_nb = MultinomialNB().fit(tf_idf_train, train_target)\n",
    "\n",
    "# Combing the all CountVectorizer,TfidfTransformer,MultinomialNB with alpha value 0.01\n",
    "#ngram_range The lower and upper boundary of the range of n-values is 1 and 3\n",
    "text_classification = Pipeline([('vectorizer', CountVectorizer(ngram_range=(1,3))),\n",
    "    ('tfidftransformer', TfidfTransformer(use_idf=True)),\n",
    "    ('classification', MultinomialNB(alpha=0.01)),])\n",
    "text_classification = text_classification.fit(train_data, train_target)\n",
    "predicted = text_classification.predict(test_data)\n",
    "\n",
    "# Naive Bayes predicted values is saving to csv file\n",
    "np.savetxt(\"naive_bayes_predicted.csv\", predicted, delimiter=\",\")\n",
    "\n",
    "accuracy_for_test_keys = np.mean(predicted == test_target)\n",
    "print(\"Multinomial Naive Bayes Model Accuracy = {} %\".format(accuracy_for_test_keys*100))"
   ]
  },
  {
   "cell_type": "markdown",
   "metadata": {},
   "source": [
    "### Train model 3: Support Vector Machine"
   ]
  },
  {
   "cell_type": "code",
   "execution_count": 72,
   "metadata": {},
   "outputs": [],
   "source": [
    "from sklearn.linear_model import SGDClassifier     #Linear classifiers (SVM, logistic regression, a.o.) with SGD training.\n",
    "from sklearn.model_selection import GridSearchCV   #Exhaustive search over specified parameter values for an estimator. Important members are fit, predict."
   ]
  },
  {
   "cell_type": "code",
   "execution_count": null,
   "metadata": {
    "scrolled": true
   },
   "outputs": [
    {
     "name": "stderr",
     "output_type": "stream",
     "text": [
      "C:\\ProgramData\\Anaconda3\\lib\\site-packages\\sklearn\\model_selection\\_split.py:2053: FutureWarning: You should specify a value for 'cv' instead of relying on the default value. The default value will change from 3 to 5 in version 0.22.\n",
      "  warnings.warn(CV_WARNING, FutureWarning)\n"
     ]
    }
   ],
   "source": [
    "# We are now implementing the Support Vector Machine \n",
    "parameters = {'vectorizer__ngram_range': [(1, 3), (1, 3)],'tfidftransformer__use_idf': (True, False),\n",
    "'classification__alpha': (1e-2, 1e-3),'vectorizer__stop_words':('english',None)}\n",
    "\n",
    "gs_clf = GridSearchCV(text_classification, parameters, n_jobs=-1)\n",
    "gs_clf = gs_clf.fit(train_data, train_target)\n",
    "\n",
    "text_classification = Pipeline([('vectorizer', CountVectorizer(ngram_range=(1,3))),\n",
    "    ('tfidftransformer', TfidfTransformer(use_idf=True)),\n",
    "    ('classification', SGDClassifier(loss='squared_hinge',\n",
    "     penalty='l2',alpha=2*1e-4, n_iter=800, random_state=100,eta0=0.0009)),])\n",
    "\n",
    "roop = text_classification.fit(train_data, train_target)\n",
    "svm_prediction = text_classification.predict(test_data)\n",
    "\n",
    "#Support vector machine predicted values is saving to csv file\n",
    "np.savetxt(\"svm.csv\", svm_prediction, delimiter=\",\")\n",
    "\n",
    "svm_accuracy = np.mean(svm_prediction == test_target)\n",
    "print(\"Support Vector Machine Model Accuracy={} %\".format(svm_accuracy*100))\n",
    "\n",
    "svm_prediction_list = []\n",
    "# Accuracy check for SVM we droped the Naive bayes model because it is giving the low accuracy\n",
    "#comared to SVM\n",
    "output = pd.read_csv(\"naive_bayes_predicted.csv\",header=None)\n",
    "output = pd.DataFrame(output)\n",
    "output1 = list(output[0])\n",
    "#print output1\n",
    "output_svm = pd.read_csv(\"svm.csv\",header=None)\n",
    "output_svm = pd.DataFrame(output_svm)\n",
    "output_svm1 = list(output_svm[0])\n",
    "count_row = 0\n",
    "for i in range(2716):\n",
    "    if output_svm1[i]==testw1[i]:\n",
    "        count_row = count_row+1\n",
    "\n",
    "svmrt = (count_row/2717.0)\n",
    "# Here we are again checking the accuarcy for the SVM model \n",
    "print(\"The final accuracy is = {} %\".format(svmrt*100))\n",
    "\n",
    "print(\"\\nHere Our Final Model has the {} %  accuracy by Support Vector Machine\".format(svm_accuracy*100))"
   ]
  },
  {
   "cell_type": "code",
   "execution_count": null,
   "metadata": {},
   "outputs": [],
   "source": []
  }
 ],
 "metadata": {
  "kernelspec": {
   "display_name": "Python 3.10.6 64-bit (windows store)",
   "language": "python",
   "name": "python3"
  },
  "language_info": {
   "codemirror_mode": {
    "name": "ipython",
    "version": 3
   },
   "file_extension": ".py",
   "mimetype": "text/x-python",
   "name": "python",
   "nbconvert_exporter": "python",
   "pygments_lexer": "ipython3",
   "version": "3.10.6"
  },
  "vscode": {
   "interpreter": {
    "hash": "6d37efe8b5696e020ff20f03281d74432cd5b58f0d8f4efefd34ea302a90c8b3"
   }
  }
 },
 "nbformat": 4,
 "nbformat_minor": 2
}
