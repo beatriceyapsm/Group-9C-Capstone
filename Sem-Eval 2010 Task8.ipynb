{
  "cells": [
    {
      "cell_type": "markdown",
      "metadata": {
        "id": "view-in-github",
        "colab_type": "text"
      },
      "source": [
        "<a href=\"https://colab.research.google.com/github/squaluz/Group-9C-Capstone/blob/main/Sem-Eval%202010%20Task8.ipynb\" target=\"_parent\"><img src=\"https://colab.research.google.com/assets/colab-badge.svg\" alt=\"Open In Colab\"/></a>"
      ]
    },
    {
      "cell_type": "markdown",
      "metadata": {
        "id": "zH9XHxIUfZoz"
      },
      "source": [
        "## Group 9C SGUS NUS Capstone Project 2022 \n",
        "### Improve Demand Forecasting through Natural Language Processing for Panasonic\n",
        "\n",
        "The objective of the project is to develop a technology to detect cause-effect relationship from news corpora using Lexicon based relation identification\n",
        "\n",
        "Methodology: \n",
        "1.   Data Preparation\n",
        "2.   Model Training\n",
        "3. Model Optimisation\n",
        "4. Model Evaluation\n"
      ]
    },
    {
      "cell_type": "markdown",
      "metadata": {
        "id": "LouM1Qu8fZo4"
      },
      "source": [
        "## Step 1: Data preparation\n",
        "\n",
        "#### Data set suggested by Panasonic for this exercise is from https://www.kaggle.com/datasets/drtoshi/semeval2010-task-8-dataset\n",
        "\n",
        "Data set comes with predefined labels e1 and e2, not limited to just cause-effect"
      ]
    },
    {
      "cell_type": "markdown",
      "metadata": {
        "id": "6faJ66RUfZo4"
      },
      "source": [
        "#### Python libraries used\n",
        "\n",
        "Panda - Data analysis manipulation library for Python\n",
        "\n",
        "Numpy - Mathematical operations over arrays"
      ]
    },
    {
      "cell_type": "code",
      "execution_count": 1,
      "metadata": {
        "id": "BD5AQdxpfZo5"
      },
      "outputs": [],
      "source": [
        "import pandas as pd        #data analysis and manipulation library for Python\n",
        "import numpy as np         #mathematical operations over arrays\n",
        "\n",
        "#Global variables\n",
        "train_data = []            #sentence for training with labels \n",
        "train_target = []          #labels for training data\n",
        "test_data = []             #sentence for testing with labels  \n",
        "test_target = []           #labels for testing data"
      ]
    },
    {
      "cell_type": "markdown",
      "metadata": {
        "id": "bqkeBYJafZo6"
      },
      "source": [
        "#### Create data frames"
      ]
    },
    {
      "cell_type": "code",
      "execution_count": 2,
      "metadata": {
        "id": "SN8fL2lUfZo7"
      },
      "outputs": [],
      "source": [
        "#Import files into a dataframe\n",
        "def import_text(file_txt):\n",
        "    \n",
        "    colnames=['ID', 'Text'] \n",
        "    \n",
        "    df = pd.read_csv(file_txt\n",
        "                       ,skip_blank_lines=True   #input files have emplty lines\n",
        "                       ,header=None             #no haeders\n",
        "                       ,sep='\\t'                #tab delimited\n",
        "                       ,engine='python'         #engine\n",
        "                       ,quotechar='^'           #if there are doublequotes in the text\n",
        "                       ,comment='Comment:'      #this is for human reader, we don't need\n",
        "                       ,names=colnames          #preset columns we need\n",
        "                      )\n",
        "    print(\"Number of rows: \", len(df.index))\n",
        "\n",
        "    return df"
      ]
    },
    {
      "cell_type": "code",
      "execution_count": 3,
      "metadata": {
        "id": "BhAy3P2nfZo7"
      },
      "outputs": [],
      "source": [
        "#clean \"\"\n",
        "def clean_doublequotes(df):\n",
        "    return df.replace('\"', '', regex=True)"
      ]
    },
    {
      "cell_type": "code",
      "execution_count": 4,
      "metadata": {
        "id": "3DutIS0WfZo8"
      },
      "outputs": [],
      "source": [
        "#clean tags e.g. (e2,e1) - to check why?\n",
        "def clean_tags(df_column,braket_type):\n",
        "    \n",
        "    if braket_type == 'angle':\n",
        "        pattern = r'<.*?>'\n",
        "    elif braket_type == 'round':\n",
        "        pattern = r'(\\(.*?\\))'\n",
        "    else:\n",
        "        raise Exception(\"angle or round\")\n",
        "    \n",
        "    return df_column.str.replace(pattern, '', regex=True)"
      ]
    },
    {
      "cell_type": "code",
      "execution_count": 5,
      "metadata": {
        "id": "nUvdTWnpfZo8"
      },
      "outputs": [],
      "source": [
        "#create tuple of keys\n",
        "keys = ('Other','Cause-Effect','Product-Producer','Entity-Origin','Instrument-Agency','Component-Whole','Content-Container','Entity-Destination','Member-Collection','Message-Topic')\n",
        "#for i in range(len(keys)): print(i, keys[i])"
      ]
    },
    {
      "cell_type": "code",
      "execution_count": 6,
      "metadata": {
        "id": "aPhAUC3sfZo9"
      },
      "outputs": [],
      "source": [
        "def prepare_file(file_name,use):\n",
        "    \n",
        "    #Import training file into a dataframe\n",
        "    df = import_text(file_name)\n",
        "\n",
        "    #clean \"\"\n",
        "    df = clean_doublequotes(df)\n",
        "\n",
        "    # combine rows 1&2\n",
        "    df['Clasification'] = df['ID'].shift(-1)\n",
        "\n",
        "    #remove leftover rows\n",
        "    df = df[df.Text.notna()]\n",
        "\n",
        "    #clean tags e.g. <e2> - better option would be to keep them and use for more precise prediction\n",
        "    df.Text = clean_tags(df.Text,braket_type='angle')\n",
        "\n",
        "    #clean tags e.g. (e2,e1) - better option would be to keep them and use for more precise prediction\n",
        "    df.Clasification = clean_tags(df.Clasification,braket_type='round')\n",
        "\n",
        "    #Map Keys to numbers\n",
        "    df['Clasification_ID'] = df.Clasification.map(lambda x: keys.index(x))\n",
        "\n",
        "    #to use in thes same file\n",
        "    if use == 'train':\n",
        "        global train_data\n",
        "        train_data = df.Text\n",
        "        \n",
        "        global train_target\n",
        "        train_target = df.Clasification_ID\n",
        "    elif use == 'test':\n",
        "        global test_data\n",
        "        test_data = df.Text\n",
        "        \n",
        "        global test_target\n",
        "        test_target = df.Clasification_ID\n",
        "\n",
        "    #check\n",
        "    print('Output rows:', len(df.index))\n",
        "  \n",
        "    return df"
      ]
    },
    {
      "cell_type": "markdown",
      "metadata": {
        "id": "phU_rFKmfZo-"
      },
      "source": [
        "#### Prepare Training file"
      ]
    },
    {
      "cell_type": "code",
      "execution_count": null,
      "metadata": {
        "id": "gfCrY1xafZo-",
        "outputId": "7c274a62-f898-407c-8dbf-06316105f216",
        "colab": {
          "base_uri": "https://localhost:8080/",
          "height": 363
        }
      },
      "outputs": [
        {
          "output_type": "error",
          "ename": "FileNotFoundError",
          "evalue": "ignored",
          "traceback": [
            "\u001b[0;31m---------------------------------------------------------------------------\u001b[0m",
            "\u001b[0;31mFileNotFoundError\u001b[0m                         Traceback (most recent call last)",
            "\u001b[0;32m<ipython-input-15-81ad14c51e11>\u001b[0m in \u001b[0;36m<module>\u001b[0;34m\u001b[0m\n\u001b[1;32m      1\u001b[0m \u001b[0;31m#prepare file\u001b[0m\u001b[0;34m\u001b[0m\u001b[0;34m\u001b[0m\u001b[0;34m\u001b[0m\u001b[0m\n\u001b[0;32m----> 2\u001b[0;31m \u001b[0mdf_train\u001b[0m \u001b[0;34m=\u001b[0m \u001b[0mprepare_file\u001b[0m\u001b[0;34m(\u001b[0m\u001b[0;34m'semeval2010task8_train.txt'\u001b[0m\u001b[0;34m,\u001b[0m\u001b[0;34m'train'\u001b[0m\u001b[0;34m)\u001b[0m\u001b[0;34m\u001b[0m\u001b[0;34m\u001b[0m\u001b[0m\n\u001b[0m\u001b[1;32m      3\u001b[0m \u001b[0;34m\u001b[0m\u001b[0m\n\u001b[1;32m      4\u001b[0m \u001b[0mdf_train\u001b[0m\u001b[0;34m.\u001b[0m\u001b[0mhead\u001b[0m\u001b[0;34m(\u001b[0m\u001b[0;36m5\u001b[0m\u001b[0;34m)\u001b[0m\u001b[0;34m\u001b[0m\u001b[0;34m\u001b[0m\u001b[0m\n",
            "\u001b[0;32m<ipython-input-12-5cb5a8513a35>\u001b[0m in \u001b[0;36mprepare_file\u001b[0;34m(file_name, use)\u001b[0m\n\u001b[1;32m      2\u001b[0m \u001b[0;34m\u001b[0m\u001b[0m\n\u001b[1;32m      3\u001b[0m     \u001b[0;31m#Import training file into a dataframe\u001b[0m\u001b[0;34m\u001b[0m\u001b[0;34m\u001b[0m\u001b[0;34m\u001b[0m\u001b[0m\n\u001b[0;32m----> 4\u001b[0;31m     \u001b[0mdf\u001b[0m \u001b[0;34m=\u001b[0m \u001b[0mimport_text\u001b[0m\u001b[0;34m(\u001b[0m\u001b[0mfile_name\u001b[0m\u001b[0;34m)\u001b[0m\u001b[0;34m\u001b[0m\u001b[0;34m\u001b[0m\u001b[0m\n\u001b[0m\u001b[1;32m      5\u001b[0m \u001b[0;34m\u001b[0m\u001b[0m\n\u001b[1;32m      6\u001b[0m     \u001b[0;31m#clean \"\"\u001b[0m\u001b[0;34m\u001b[0m\u001b[0;34m\u001b[0m\u001b[0;34m\u001b[0m\u001b[0m\n",
            "\u001b[0;32m<ipython-input-8-b2c9fcfce465>\u001b[0m in \u001b[0;36mimport_text\u001b[0;34m(file_txt)\u001b[0m\n\u001b[1;32m     11\u001b[0m                        \u001b[0;34m,\u001b[0m\u001b[0mquotechar\u001b[0m\u001b[0;34m=\u001b[0m\u001b[0;34m'^'\u001b[0m           \u001b[0;31m#if there are doublequotes in the text\u001b[0m\u001b[0;34m\u001b[0m\u001b[0;34m\u001b[0m\u001b[0m\n\u001b[1;32m     12\u001b[0m                        \u001b[0;34m,\u001b[0m\u001b[0mcomment\u001b[0m\u001b[0;34m=\u001b[0m\u001b[0;34m'Comment:'\u001b[0m      \u001b[0;31m#this is for human reader, we don't need\u001b[0m\u001b[0;34m\u001b[0m\u001b[0;34m\u001b[0m\u001b[0m\n\u001b[0;32m---> 13\u001b[0;31m                        \u001b[0;34m,\u001b[0m\u001b[0mnames\u001b[0m\u001b[0;34m=\u001b[0m\u001b[0mcolnames\u001b[0m          \u001b[0;31m#preset columns we need\u001b[0m\u001b[0;34m\u001b[0m\u001b[0;34m\u001b[0m\u001b[0m\n\u001b[0m\u001b[1;32m     14\u001b[0m                       )\n\u001b[1;32m     15\u001b[0m     \u001b[0mprint\u001b[0m\u001b[0;34m(\u001b[0m\u001b[0;34m\"Number of rows: \"\u001b[0m\u001b[0;34m,\u001b[0m \u001b[0mlen\u001b[0m\u001b[0;34m(\u001b[0m\u001b[0mdf\u001b[0m\u001b[0;34m.\u001b[0m\u001b[0mindex\u001b[0m\u001b[0;34m)\u001b[0m\u001b[0;34m)\u001b[0m\u001b[0;34m\u001b[0m\u001b[0;34m\u001b[0m\u001b[0m\n",
            "\u001b[0;32m/usr/local/lib/python3.7/dist-packages/pandas/util/_decorators.py\u001b[0m in \u001b[0;36mwrapper\u001b[0;34m(*args, **kwargs)\u001b[0m\n\u001b[1;32m    309\u001b[0m                     \u001b[0mstacklevel\u001b[0m\u001b[0;34m=\u001b[0m\u001b[0mstacklevel\u001b[0m\u001b[0;34m,\u001b[0m\u001b[0;34m\u001b[0m\u001b[0;34m\u001b[0m\u001b[0m\n\u001b[1;32m    310\u001b[0m                 )\n\u001b[0;32m--> 311\u001b[0;31m             \u001b[0;32mreturn\u001b[0m \u001b[0mfunc\u001b[0m\u001b[0;34m(\u001b[0m\u001b[0;34m*\u001b[0m\u001b[0margs\u001b[0m\u001b[0;34m,\u001b[0m \u001b[0;34m**\u001b[0m\u001b[0mkwargs\u001b[0m\u001b[0;34m)\u001b[0m\u001b[0;34m\u001b[0m\u001b[0;34m\u001b[0m\u001b[0m\n\u001b[0m\u001b[1;32m    312\u001b[0m \u001b[0;34m\u001b[0m\u001b[0m\n\u001b[1;32m    313\u001b[0m         \u001b[0;32mreturn\u001b[0m \u001b[0mwrapper\u001b[0m\u001b[0;34m\u001b[0m\u001b[0;34m\u001b[0m\u001b[0m\n",
            "\u001b[0;32m/usr/local/lib/python3.7/dist-packages/pandas/io/parsers/readers.py\u001b[0m in \u001b[0;36mread_csv\u001b[0;34m(filepath_or_buffer, sep, delimiter, header, names, index_col, usecols, squeeze, prefix, mangle_dupe_cols, dtype, engine, converters, true_values, false_values, skipinitialspace, skiprows, skipfooter, nrows, na_values, keep_default_na, na_filter, verbose, skip_blank_lines, parse_dates, infer_datetime_format, keep_date_col, date_parser, dayfirst, cache_dates, iterator, chunksize, compression, thousands, decimal, lineterminator, quotechar, quoting, doublequote, escapechar, comment, encoding, encoding_errors, dialect, error_bad_lines, warn_bad_lines, on_bad_lines, delim_whitespace, low_memory, memory_map, float_precision, storage_options)\u001b[0m\n\u001b[1;32m    584\u001b[0m     \u001b[0mkwds\u001b[0m\u001b[0;34m.\u001b[0m\u001b[0mupdate\u001b[0m\u001b[0;34m(\u001b[0m\u001b[0mkwds_defaults\u001b[0m\u001b[0;34m)\u001b[0m\u001b[0;34m\u001b[0m\u001b[0;34m\u001b[0m\u001b[0m\n\u001b[1;32m    585\u001b[0m \u001b[0;34m\u001b[0m\u001b[0m\n\u001b[0;32m--> 586\u001b[0;31m     \u001b[0;32mreturn\u001b[0m \u001b[0m_read\u001b[0m\u001b[0;34m(\u001b[0m\u001b[0mfilepath_or_buffer\u001b[0m\u001b[0;34m,\u001b[0m \u001b[0mkwds\u001b[0m\u001b[0;34m)\u001b[0m\u001b[0;34m\u001b[0m\u001b[0;34m\u001b[0m\u001b[0m\n\u001b[0m\u001b[1;32m    587\u001b[0m \u001b[0;34m\u001b[0m\u001b[0m\n\u001b[1;32m    588\u001b[0m \u001b[0;34m\u001b[0m\u001b[0m\n",
            "\u001b[0;32m/usr/local/lib/python3.7/dist-packages/pandas/io/parsers/readers.py\u001b[0m in \u001b[0;36m_read\u001b[0;34m(filepath_or_buffer, kwds)\u001b[0m\n\u001b[1;32m    480\u001b[0m \u001b[0;34m\u001b[0m\u001b[0m\n\u001b[1;32m    481\u001b[0m     \u001b[0;31m# Create the parser.\u001b[0m\u001b[0;34m\u001b[0m\u001b[0;34m\u001b[0m\u001b[0;34m\u001b[0m\u001b[0m\n\u001b[0;32m--> 482\u001b[0;31m     \u001b[0mparser\u001b[0m \u001b[0;34m=\u001b[0m \u001b[0mTextFileReader\u001b[0m\u001b[0;34m(\u001b[0m\u001b[0mfilepath_or_buffer\u001b[0m\u001b[0;34m,\u001b[0m \u001b[0;34m**\u001b[0m\u001b[0mkwds\u001b[0m\u001b[0;34m)\u001b[0m\u001b[0;34m\u001b[0m\u001b[0;34m\u001b[0m\u001b[0m\n\u001b[0m\u001b[1;32m    483\u001b[0m \u001b[0;34m\u001b[0m\u001b[0m\n\u001b[1;32m    484\u001b[0m     \u001b[0;32mif\u001b[0m \u001b[0mchunksize\u001b[0m \u001b[0;32mor\u001b[0m \u001b[0miterator\u001b[0m\u001b[0;34m:\u001b[0m\u001b[0;34m\u001b[0m\u001b[0;34m\u001b[0m\u001b[0m\n",
            "\u001b[0;32m/usr/local/lib/python3.7/dist-packages/pandas/io/parsers/readers.py\u001b[0m in \u001b[0;36m__init__\u001b[0;34m(self, f, engine, **kwds)\u001b[0m\n\u001b[1;32m    809\u001b[0m             \u001b[0mself\u001b[0m\u001b[0;34m.\u001b[0m\u001b[0moptions\u001b[0m\u001b[0;34m[\u001b[0m\u001b[0;34m\"has_index_names\"\u001b[0m\u001b[0;34m]\u001b[0m \u001b[0;34m=\u001b[0m \u001b[0mkwds\u001b[0m\u001b[0;34m[\u001b[0m\u001b[0;34m\"has_index_names\"\u001b[0m\u001b[0;34m]\u001b[0m\u001b[0;34m\u001b[0m\u001b[0;34m\u001b[0m\u001b[0m\n\u001b[1;32m    810\u001b[0m \u001b[0;34m\u001b[0m\u001b[0m\n\u001b[0;32m--> 811\u001b[0;31m         \u001b[0mself\u001b[0m\u001b[0;34m.\u001b[0m\u001b[0m_engine\u001b[0m \u001b[0;34m=\u001b[0m \u001b[0mself\u001b[0m\u001b[0;34m.\u001b[0m\u001b[0m_make_engine\u001b[0m\u001b[0;34m(\u001b[0m\u001b[0mself\u001b[0m\u001b[0;34m.\u001b[0m\u001b[0mengine\u001b[0m\u001b[0;34m)\u001b[0m\u001b[0;34m\u001b[0m\u001b[0;34m\u001b[0m\u001b[0m\n\u001b[0m\u001b[1;32m    812\u001b[0m \u001b[0;34m\u001b[0m\u001b[0m\n\u001b[1;32m    813\u001b[0m     \u001b[0;32mdef\u001b[0m \u001b[0mclose\u001b[0m\u001b[0;34m(\u001b[0m\u001b[0mself\u001b[0m\u001b[0;34m)\u001b[0m\u001b[0;34m:\u001b[0m\u001b[0;34m\u001b[0m\u001b[0;34m\u001b[0m\u001b[0m\n",
            "\u001b[0;32m/usr/local/lib/python3.7/dist-packages/pandas/io/parsers/readers.py\u001b[0m in \u001b[0;36m_make_engine\u001b[0;34m(self, engine)\u001b[0m\n\u001b[1;32m   1038\u001b[0m             )\n\u001b[1;32m   1039\u001b[0m         \u001b[0;31m# error: Too many arguments for \"ParserBase\"\u001b[0m\u001b[0;34m\u001b[0m\u001b[0;34m\u001b[0m\u001b[0;34m\u001b[0m\u001b[0m\n\u001b[0;32m-> 1040\u001b[0;31m         \u001b[0;32mreturn\u001b[0m \u001b[0mmapping\u001b[0m\u001b[0;34m[\u001b[0m\u001b[0mengine\u001b[0m\u001b[0;34m]\u001b[0m\u001b[0;34m(\u001b[0m\u001b[0mself\u001b[0m\u001b[0;34m.\u001b[0m\u001b[0mf\u001b[0m\u001b[0;34m,\u001b[0m \u001b[0;34m**\u001b[0m\u001b[0mself\u001b[0m\u001b[0;34m.\u001b[0m\u001b[0moptions\u001b[0m\u001b[0;34m)\u001b[0m  \u001b[0;31m# type: ignore[call-arg]\u001b[0m\u001b[0;34m\u001b[0m\u001b[0;34m\u001b[0m\u001b[0m\n\u001b[0m\u001b[1;32m   1041\u001b[0m \u001b[0;34m\u001b[0m\u001b[0m\n\u001b[1;32m   1042\u001b[0m     \u001b[0;32mdef\u001b[0m \u001b[0m_failover_to_python\u001b[0m\u001b[0;34m(\u001b[0m\u001b[0mself\u001b[0m\u001b[0;34m)\u001b[0m\u001b[0;34m:\u001b[0m\u001b[0;34m\u001b[0m\u001b[0;34m\u001b[0m\u001b[0m\n",
            "\u001b[0;32m/usr/local/lib/python3.7/dist-packages/pandas/io/parsers/python_parser.py\u001b[0m in \u001b[0;36m__init__\u001b[0;34m(self, f, **kwds)\u001b[0m\n\u001b[1;32m     94\u001b[0m             \u001b[0mself\u001b[0m\u001b[0;34m.\u001b[0m\u001b[0mdata\u001b[0m \u001b[0;34m=\u001b[0m \u001b[0mcast\u001b[0m\u001b[0;34m(\u001b[0m\u001b[0mIterator\u001b[0m\u001b[0;34m[\u001b[0m\u001b[0mstr\u001b[0m\u001b[0;34m]\u001b[0m\u001b[0;34m,\u001b[0m \u001b[0mf\u001b[0m\u001b[0;34m)\u001b[0m\u001b[0;34m\u001b[0m\u001b[0;34m\u001b[0m\u001b[0m\n\u001b[1;32m     95\u001b[0m         \u001b[0;32melse\u001b[0m\u001b[0;34m:\u001b[0m\u001b[0;34m\u001b[0m\u001b[0;34m\u001b[0m\u001b[0m\n\u001b[0;32m---> 96\u001b[0;31m             \u001b[0mself\u001b[0m\u001b[0;34m.\u001b[0m\u001b[0m_open_handles\u001b[0m\u001b[0;34m(\u001b[0m\u001b[0mf\u001b[0m\u001b[0;34m,\u001b[0m \u001b[0mkwds\u001b[0m\u001b[0;34m)\u001b[0m\u001b[0;34m\u001b[0m\u001b[0;34m\u001b[0m\u001b[0m\n\u001b[0m\u001b[1;32m     97\u001b[0m             \u001b[0;32massert\u001b[0m \u001b[0mself\u001b[0m\u001b[0;34m.\u001b[0m\u001b[0mhandles\u001b[0m \u001b[0;32mis\u001b[0m \u001b[0;32mnot\u001b[0m \u001b[0;32mNone\u001b[0m\u001b[0;34m\u001b[0m\u001b[0;34m\u001b[0m\u001b[0m\n\u001b[1;32m     98\u001b[0m             \u001b[0;32massert\u001b[0m \u001b[0mhasattr\u001b[0m\u001b[0;34m(\u001b[0m\u001b[0mself\u001b[0m\u001b[0;34m.\u001b[0m\u001b[0mhandles\u001b[0m\u001b[0;34m.\u001b[0m\u001b[0mhandle\u001b[0m\u001b[0;34m,\u001b[0m \u001b[0;34m\"readline\"\u001b[0m\u001b[0;34m)\u001b[0m\u001b[0;34m\u001b[0m\u001b[0;34m\u001b[0m\u001b[0m\n",
            "\u001b[0;32m/usr/local/lib/python3.7/dist-packages/pandas/io/parsers/base_parser.py\u001b[0m in \u001b[0;36m_open_handles\u001b[0;34m(self, src, kwds)\u001b[0m\n\u001b[1;32m    227\u001b[0m             \u001b[0mmemory_map\u001b[0m\u001b[0;34m=\u001b[0m\u001b[0mkwds\u001b[0m\u001b[0;34m.\u001b[0m\u001b[0mget\u001b[0m\u001b[0;34m(\u001b[0m\u001b[0;34m\"memory_map\"\u001b[0m\u001b[0;34m,\u001b[0m \u001b[0;32mFalse\u001b[0m\u001b[0;34m)\u001b[0m\u001b[0;34m,\u001b[0m\u001b[0;34m\u001b[0m\u001b[0;34m\u001b[0m\u001b[0m\n\u001b[1;32m    228\u001b[0m             \u001b[0mstorage_options\u001b[0m\u001b[0;34m=\u001b[0m\u001b[0mkwds\u001b[0m\u001b[0;34m.\u001b[0m\u001b[0mget\u001b[0m\u001b[0;34m(\u001b[0m\u001b[0;34m\"storage_options\"\u001b[0m\u001b[0;34m,\u001b[0m \u001b[0;32mNone\u001b[0m\u001b[0;34m)\u001b[0m\u001b[0;34m,\u001b[0m\u001b[0;34m\u001b[0m\u001b[0;34m\u001b[0m\u001b[0m\n\u001b[0;32m--> 229\u001b[0;31m             \u001b[0merrors\u001b[0m\u001b[0;34m=\u001b[0m\u001b[0mkwds\u001b[0m\u001b[0;34m.\u001b[0m\u001b[0mget\u001b[0m\u001b[0;34m(\u001b[0m\u001b[0;34m\"encoding_errors\"\u001b[0m\u001b[0;34m,\u001b[0m \u001b[0;34m\"strict\"\u001b[0m\u001b[0;34m)\u001b[0m\u001b[0;34m,\u001b[0m\u001b[0;34m\u001b[0m\u001b[0;34m\u001b[0m\u001b[0m\n\u001b[0m\u001b[1;32m    230\u001b[0m         )\n\u001b[1;32m    231\u001b[0m \u001b[0;34m\u001b[0m\u001b[0m\n",
            "\u001b[0;32m/usr/local/lib/python3.7/dist-packages/pandas/io/common.py\u001b[0m in \u001b[0;36mget_handle\u001b[0;34m(path_or_buf, mode, encoding, compression, memory_map, is_text, errors, storage_options)\u001b[0m\n\u001b[1;32m    705\u001b[0m                 \u001b[0mencoding\u001b[0m\u001b[0;34m=\u001b[0m\u001b[0mioargs\u001b[0m\u001b[0;34m.\u001b[0m\u001b[0mencoding\u001b[0m\u001b[0;34m,\u001b[0m\u001b[0;34m\u001b[0m\u001b[0;34m\u001b[0m\u001b[0m\n\u001b[1;32m    706\u001b[0m                 \u001b[0merrors\u001b[0m\u001b[0;34m=\u001b[0m\u001b[0merrors\u001b[0m\u001b[0;34m,\u001b[0m\u001b[0;34m\u001b[0m\u001b[0;34m\u001b[0m\u001b[0m\n\u001b[0;32m--> 707\u001b[0;31m                 \u001b[0mnewline\u001b[0m\u001b[0;34m=\u001b[0m\u001b[0;34m\"\"\u001b[0m\u001b[0;34m,\u001b[0m\u001b[0;34m\u001b[0m\u001b[0;34m\u001b[0m\u001b[0m\n\u001b[0m\u001b[1;32m    708\u001b[0m             )\n\u001b[1;32m    709\u001b[0m         \u001b[0;32melse\u001b[0m\u001b[0;34m:\u001b[0m\u001b[0;34m\u001b[0m\u001b[0;34m\u001b[0m\u001b[0m\n",
            "\u001b[0;31mFileNotFoundError\u001b[0m: [Errno 2] No such file or directory: 'semeval2010task8_train.txt'"
          ]
        }
      ],
      "source": [
        "#prepare file\n",
        "df_train = prepare_file('semeval2010task8_train.txt','train')\n",
        "\n",
        "df_train.head(5)"
      ]
    },
    {
      "cell_type": "code",
      "execution_count": 8,
      "metadata": {
        "id": "jAKtE8LKfZo_",
        "outputId": "2c514403-b735-442d-ce13-8393a87dad9b"
      },
      "outputs": [
        {
          "name": "stdout",
          "output_type": "stream",
          "text": [
            "Number of rows:  5434\n",
            "Output rows: 2717\n"
          ]
        },
        {
          "data": {
            "text/html": [
              "<div>\n",
              "<style scoped>\n",
              "    .dataframe tbody tr th:only-of-type {\n",
              "        vertical-align: middle;\n",
              "    }\n",
              "\n",
              "    .dataframe tbody tr th {\n",
              "        vertical-align: top;\n",
              "    }\n",
              "\n",
              "    .dataframe thead th {\n",
              "        text-align: right;\n",
              "    }\n",
              "</style>\n",
              "<table border=\"1\" class=\"dataframe\">\n",
              "  <thead>\n",
              "    <tr style=\"text-align: right;\">\n",
              "      <th></th>\n",
              "      <th>ID</th>\n",
              "      <th>Text</th>\n",
              "      <th>Clasification</th>\n",
              "      <th>Clasification_ID</th>\n",
              "    </tr>\n",
              "  </thead>\n",
              "  <tbody>\n",
              "    <tr>\n",
              "      <th>0</th>\n",
              "      <td>8001</td>\n",
              "      <td>The most common audits were about waste and re...</td>\n",
              "      <td>Message-Topic</td>\n",
              "      <td>9</td>\n",
              "    </tr>\n",
              "    <tr>\n",
              "      <th>2</th>\n",
              "      <td>8002</td>\n",
              "      <td>The company fabricates plastic chairs.</td>\n",
              "      <td>Product-Producer</td>\n",
              "      <td>2</td>\n",
              "    </tr>\n",
              "    <tr>\n",
              "      <th>4</th>\n",
              "      <td>8003</td>\n",
              "      <td>The school master teaches the lesson with a st...</td>\n",
              "      <td>Instrument-Agency</td>\n",
              "      <td>4</td>\n",
              "    </tr>\n",
              "    <tr>\n",
              "      <th>6</th>\n",
              "      <td>8004</td>\n",
              "      <td>The suspect dumped the dead body into a local ...</td>\n",
              "      <td>Entity-Destination</td>\n",
              "      <td>7</td>\n",
              "    </tr>\n",
              "    <tr>\n",
              "      <th>8</th>\n",
              "      <td>8005</td>\n",
              "      <td>Avian influenza is an infectious disease of bi...</td>\n",
              "      <td>Cause-Effect</td>\n",
              "      <td>1</td>\n",
              "    </tr>\n",
              "  </tbody>\n",
              "</table>\n",
              "</div>"
            ],
            "text/plain": [
              "     ID                                               Text  \\\n",
              "0  8001  The most common audits were about waste and re...   \n",
              "2  8002             The company fabricates plastic chairs.   \n",
              "4  8003  The school master teaches the lesson with a st...   \n",
              "6  8004  The suspect dumped the dead body into a local ...   \n",
              "8  8005  Avian influenza is an infectious disease of bi...   \n",
              "\n",
              "        Clasification  Clasification_ID  \n",
              "0       Message-Topic                 9  \n",
              "2    Product-Producer                 2  \n",
              "4   Instrument-Agency                 4  \n",
              "6  Entity-Destination                 7  \n",
              "8        Cause-Effect                 1  "
            ]
          },
          "execution_count": 8,
          "metadata": {},
          "output_type": "execute_result"
        }
      ],
      "source": [
        "df_test = prepare_file('semeval2010task8_test.txt','test')\n",
        "\n",
        "df_test.head(5)"
      ]
    },
    {
      "cell_type": "markdown",
      "metadata": {
        "id": "E2jg4ZDNfZo_"
      },
      "source": [
        "## Step 2: training models"
      ]
    },
    {
      "cell_type": "code",
      "execution_count": 9,
      "metadata": {
        "id": "jkhhb0s7fZpA",
        "scrolled": true
      },
      "outputs": [],
      "source": [
        "# use the TF-IDF vectorizer and create a pipeline that attaches it to a multinomial naive Bayes classifier\n",
        "from sklearn.feature_extraction.text import TfidfVectorizer    #Convert a collection of raw documents to a matrix of TF-IDF features\n",
        "from sklearn.naive_bayes import MultinomialNB                  #multinomial Naive Bayes classifier is suitable for classification with discrete features\n",
        "from sklearn.pipeline import make_pipeline                     #Construct a Pipeline from the given estimators\n",
        "\n",
        "#show data\n",
        "import seaborn as sns; sns.set()                               #data visualization library based on matplotlib\n",
        "import matplotlib.pyplot as plt                                #interactive plots \n",
        "from sklearn.metrics import confusion_matrix                   #Compute confusion matrix to evaluate the accuracy of a classification"
      ]
    },
    {
      "cell_type": "markdown",
      "metadata": {
        "id": "Bq4oXwAZfZpA"
      },
      "source": [
        "### Train model 1: Multinomial Naive Bayes (standard parameters)"
      ]
    },
    {
      "cell_type": "code",
      "execution_count": 10,
      "metadata": {
        "id": "vsfRjBmdfZpA"
      },
      "outputs": [],
      "source": [
        "model = make_pipeline(TfidfVectorizer(), MultinomialNB())"
      ]
    },
    {
      "cell_type": "code",
      "execution_count": 11,
      "metadata": {
        "id": "kxVYYObhfZpA"
      },
      "outputs": [],
      "source": [
        "#TO READ: https://jakevdp.github.io/PythonDataScienceHandbook/05.04-feature-engineering.html"
      ]
    },
    {
      "cell_type": "code",
      "execution_count": 12,
      "metadata": {
        "id": "VBCbp-affZpB",
        "scrolled": true
      },
      "outputs": [],
      "source": [
        "#With this pipeline, we can apply the model to the training data, and predict labels for the test data\n",
        "model.fit(train_data, train_target)\n",
        "labels = model.predict(test_data)"
      ]
    },
    {
      "cell_type": "code",
      "execution_count": 13,
      "metadata": {
        "id": "lFHr0UIyfZpB",
        "outputId": "254d98b2-7d63-4c8b-8034-1550e7a5d8dc"
      },
      "outputs": [
        {
          "data": {
            "text/plain": [
              "<Figure size 4800x4800 with 0 Axes>"
            ]
          },
          "execution_count": 13,
          "metadata": {},
          "output_type": "execute_result"
        },
        {
          "data": {
            "image/png": "[encoded data removed]",
            "text/plain": [
              "<Figure size 432x288 with 1 Axes>"
            ]
          },
          "metadata": {
            "needs_background": "light"
          },
          "output_type": "display_data"
        },
        {
          "data": {
            "text/plain": [
              "<Figure size 4800x4800 with 0 Axes>"
            ]
          },
          "metadata": {},
          "output_type": "display_data"
        }
      ],
      "source": [
        "#evaluate the performance of the estimator with confusion matrix between the true and predicted labels for the test data\n",
        "plt.rcParams['font.size'] = '26'\n",
        "mat = confusion_matrix(test_target, labels)\n",
        "sns.heatmap(mat.T, square=True, annot=True, fmt='d', cbar=False, xticklabels=keys, yticklabels=keys)\n",
        "\n",
        "plt.xlabel('true label')\n",
        "plt.ylabel('predicted label')\n",
        "\n",
        "from matplotlib.pyplot import figure\n",
        "figure(figsize=(6, 6), dpi=800)"
      ]
    },
    {
      "cell_type": "code",
      "execution_count": 14,
      "metadata": {
        "id": "jCDGV1xefZpB",
        "outputId": "aa1cc5d0-e94e-4afa-841d-d7ea26055a9b"
      },
      "outputs": [
        {
          "name": "stdout",
          "output_type": "stream",
          "text": [
            "Multinomial Naive Bayes Model Accuracy = 34.560176665439826 %\n"
          ]
        }
      ],
      "source": [
        "accuracy_for_test_keys = np.mean(labels == test_target)\n",
        "print(\"Multinomial Naive Bayes Model Accuracy = {} %\".format(accuracy_for_test_keys*100))"
      ]
    },
    {
      "cell_type": "code",
      "execution_count": 15,
      "metadata": {
        "id": "q_9IWlDafZpC"
      },
      "outputs": [],
      "source": [
        "def predict_category(s, train=keys, model=model):\n",
        "    pred = model.predict([s])\n",
        "    return train[pred[0]]"
      ]
    },
    {
      "cell_type": "code",
      "execution_count": 16,
      "metadata": {
        "id": "iPhc1qevfZpC"
      },
      "outputs": [],
      "source": [
        "df_test['Calculated_Clasification_ID'] = labels"
      ]
    },
    {
      "cell_type": "code",
      "execution_count": 17,
      "metadata": {
        "id": "NYPE3gYGfZpC"
      },
      "outputs": [],
      "source": [
        "df_test['Calculated_Clasification'] = df_test.Calculated_Clasification_ID.map(lambda x: keys[x])"
      ]
    },
    {
      "cell_type": "code",
      "execution_count": 18,
      "metadata": {
        "id": "AggqXeUcfZpC",
        "outputId": "a6d14426-a483-4763-d90e-83b0b6dad49d"
      },
      "outputs": [
        {
          "data": {
            "text/html": [
              "<div>\n",
              "<style scoped>\n",
              "    .dataframe tbody tr th:only-of-type {\n",
              "        vertical-align: middle;\n",
              "    }\n",
              "\n",
              "    .dataframe tbody tr th {\n",
              "        vertical-align: top;\n",
              "    }\n",
              "\n",
              "    .dataframe thead th {\n",
              "        text-align: right;\n",
              "    }\n",
              "</style>\n",
              "<table border=\"1\" class=\"dataframe\">\n",
              "  <thead>\n",
              "    <tr style=\"text-align: right;\">\n",
              "      <th></th>\n",
              "      <th>ID</th>\n",
              "      <th>Text</th>\n",
              "      <th>Clasification</th>\n",
              "      <th>Clasification_ID</th>\n",
              "      <th>Calculated_Clasification_ID</th>\n",
              "      <th>Calculated_Clasification</th>\n",
              "    </tr>\n",
              "  </thead>\n",
              "  <tbody>\n",
              "    <tr>\n",
              "      <th>0</th>\n",
              "      <td>8001</td>\n",
              "      <td>The most common audits were about waste and re...</td>\n",
              "      <td>Message-Topic</td>\n",
              "      <td>9</td>\n",
              "      <td>1</td>\n",
              "      <td>Cause-Effect</td>\n",
              "    </tr>\n",
              "    <tr>\n",
              "      <th>2</th>\n",
              "      <td>8002</td>\n",
              "      <td>The company fabricates plastic chairs.</td>\n",
              "      <td>Product-Producer</td>\n",
              "      <td>2</td>\n",
              "      <td>0</td>\n",
              "      <td>Other</td>\n",
              "    </tr>\n",
              "    <tr>\n",
              "      <th>4</th>\n",
              "      <td>8003</td>\n",
              "      <td>The school master teaches the lesson with a st...</td>\n",
              "      <td>Instrument-Agency</td>\n",
              "      <td>4</td>\n",
              "      <td>0</td>\n",
              "      <td>Other</td>\n",
              "    </tr>\n",
              "    <tr>\n",
              "      <th>6</th>\n",
              "      <td>8004</td>\n",
              "      <td>The suspect dumped the dead body into a local ...</td>\n",
              "      <td>Entity-Destination</td>\n",
              "      <td>7</td>\n",
              "      <td>7</td>\n",
              "      <td>Entity-Destination</td>\n",
              "    </tr>\n",
              "    <tr>\n",
              "      <th>8</th>\n",
              "      <td>8005</td>\n",
              "      <td>Avian influenza is an infectious disease of bi...</td>\n",
              "      <td>Cause-Effect</td>\n",
              "      <td>1</td>\n",
              "      <td>1</td>\n",
              "      <td>Cause-Effect</td>\n",
              "    </tr>\n",
              "    <tr>\n",
              "      <th>10</th>\n",
              "      <td>8006</td>\n",
              "      <td>The ear of the African elephant is significant...</td>\n",
              "      <td>Component-Whole</td>\n",
              "      <td>5</td>\n",
              "      <td>0</td>\n",
              "      <td>Other</td>\n",
              "    </tr>\n",
              "    <tr>\n",
              "      <th>12</th>\n",
              "      <td>8007</td>\n",
              "      <td>A child is told a lie for several years by the...</td>\n",
              "      <td>Product-Producer</td>\n",
              "      <td>2</td>\n",
              "      <td>0</td>\n",
              "      <td>Other</td>\n",
              "    </tr>\n",
              "    <tr>\n",
              "      <th>14</th>\n",
              "      <td>8008</td>\n",
              "      <td>Skype, a free software, allows a hookup of mul...</td>\n",
              "      <td>Member-Collection</td>\n",
              "      <td>8</td>\n",
              "      <td>0</td>\n",
              "      <td>Other</td>\n",
              "    </tr>\n",
              "    <tr>\n",
              "      <th>16</th>\n",
              "      <td>8009</td>\n",
              "      <td>The disgusting scene was retaliation against h...</td>\n",
              "      <td>Component-Whole</td>\n",
              "      <td>5</td>\n",
              "      <td>0</td>\n",
              "      <td>Other</td>\n",
              "    </tr>\n",
              "    <tr>\n",
              "      <th>18</th>\n",
              "      <td>8010</td>\n",
              "      <td>This thesis defines the clinical characteristi...</td>\n",
              "      <td>Message-Topic</td>\n",
              "      <td>9</td>\n",
              "      <td>0</td>\n",
              "      <td>Other</td>\n",
              "    </tr>\n",
              "  </tbody>\n",
              "</table>\n",
              "</div>"
            ],
            "text/plain": [
              "      ID                                               Text  \\\n",
              "0   8001  The most common audits were about waste and re...   \n",
              "2   8002             The company fabricates plastic chairs.   \n",
              "4   8003  The school master teaches the lesson with a st...   \n",
              "6   8004  The suspect dumped the dead body into a local ...   \n",
              "8   8005  Avian influenza is an infectious disease of bi...   \n",
              "10  8006  The ear of the African elephant is significant...   \n",
              "12  8007  A child is told a lie for several years by the...   \n",
              "14  8008  Skype, a free software, allows a hookup of mul...   \n",
              "16  8009  The disgusting scene was retaliation against h...   \n",
              "18  8010  This thesis defines the clinical characteristi...   \n",
              "\n",
              "         Clasification  Clasification_ID  Calculated_Clasification_ID  \\\n",
              "0        Message-Topic                 9                            1   \n",
              "2     Product-Producer                 2                            0   \n",
              "4    Instrument-Agency                 4                            0   \n",
              "6   Entity-Destination                 7                            7   \n",
              "8         Cause-Effect                 1                            1   \n",
              "10     Component-Whole                 5                            0   \n",
              "12    Product-Producer                 2                            0   \n",
              "14   Member-Collection                 8                            0   \n",
              "16     Component-Whole                 5                            0   \n",
              "18       Message-Topic                 9                            0   \n",
              "\n",
              "   Calculated_Clasification  \n",
              "0              Cause-Effect  \n",
              "2                     Other  \n",
              "4                     Other  \n",
              "6        Entity-Destination  \n",
              "8              Cause-Effect  \n",
              "10                    Other  \n",
              "12                    Other  \n",
              "14                    Other  \n",
              "16                    Other  \n",
              "18                    Other  "
            ]
          },
          "execution_count": 18,
          "metadata": {},
          "output_type": "execute_result"
        }
      ],
      "source": [
        "df_test.head(10)"
      ]
    },
    {
      "cell_type": "markdown",
      "metadata": {
        "id": "C2gYOBivfZpC"
      },
      "source": [
        "### Train model 2: Multinomial Naive Bayes (optimized parameters)"
      ]
    },
    {
      "cell_type": "code",
      "execution_count": 19,
      "metadata": {
        "id": "LGiBx__5fZpD"
      },
      "outputs": [],
      "source": [
        "#https://holypython.com/nbc/naive-bayes-classifier-optimization-parameters/\n",
        "\n",
        "#https://www.geeksforgeeks.org/using-countvectorizer-to-extracting-features-from-text/\n",
        "#model1 = make_pipeline(CountVectorizer(ngram_range=(1,3)), TfidfVectorizer(), MultinomialNB())"
      ]
    },
    {
      "cell_type": "code",
      "execution_count": 20,
      "metadata": {
        "id": "wpakMA9yfZpD"
      },
      "outputs": [],
      "source": [
        "from sklearn.feature_extraction.text import TfidfTransformer\n",
        "from sklearn.pipeline import Pipeline\n",
        "from sklearn.feature_extraction.text import CountVectorizer\n"
      ]
    },
    {
      "cell_type": "code",
      "execution_count": 21,
      "metadata": {
        "id": "rs3nqOYzfZpD",
        "outputId": "4fcca512-e6e3-45bf-dfda-0b1a95649547"
      },
      "outputs": [
        {
          "name": "stdout",
          "output_type": "stream",
          "text": [
            "Multinomial Naive Bayes Model Accuracy = 60.50791313949209 %\n"
          ]
        }
      ],
      "source": [
        "#Tokenizing text with scikit-learn we used CountVectorizer\n",
        "count_vector = CountVectorizer()\n",
        "train_counts = count_vector.fit_transform(train_data)\n",
        "\n",
        "# Term Frequencies are calculated which has to be use_idf=True \n",
        "tf_transformer = TfidfTransformer(use_idf=True).fit(train_counts)\n",
        "tf_train = tf_transformer.transform(train_counts)\n",
        "\n",
        "#Term Frequency times Inverse Document Frequency to skipping redundant processing\n",
        "tf_idf_transformer = TfidfTransformer()\n",
        "tf_idf_train = tf_idf_transformer.fit_transform(train_counts)\n",
        "\n",
        "#Training a classifier \n",
        "# Now we took Naive Bayes classifier which provides a nice baseline for this task\n",
        "# We used the Multinomial Naive Bayes\n",
        "#print (tf_idf_train)\n",
        "#print (train_target)\n",
        "multi_nb = MultinomialNB().fit(tf_idf_train, train_target)\n",
        "\n",
        "# Combing the all CountVectorizer,TfidfTransformer,MultinomialNB with alpha value 0.01\n",
        "#ngram_range The lower and upper boundary of the range of n-values is 1 and 3\n",
        "text_classification = Pipeline([('vectorizer', CountVectorizer(ngram_range=(1,3))),\n",
        "    ('tfidftransformer', TfidfTransformer(use_idf=True)),\n",
        "    ('classification', MultinomialNB(alpha=0.01)),])\n",
        "text_classification = text_classification.fit(train_data, train_target)\n",
        "predicted = text_classification.predict(test_data)\n",
        "\n",
        "# Naive Bayes predicted values is saving to csv file\n",
        "np.savetxt(\"naive_bayes_predicted.csv\", predicted, delimiter=\",\")\n",
        "\n",
        "accuracy_for_test_keys = np.mean(predicted == test_target)\n",
        "print(\"Multinomial Naive Bayes Model Accuracy = {} %\".format(accuracy_for_test_keys*100))"
      ]
    },
    {
      "cell_type": "markdown",
      "metadata": {
        "id": "D_Nj0hdRfZpD"
      },
      "source": [
        "### Train model 3: Support Vector Machine"
      ]
    },
    {
      "cell_type": "code",
      "execution_count": 22,
      "metadata": {
        "id": "AbupwXZffZpE"
      },
      "outputs": [],
      "source": [
        "from sklearn.linear_model import SGDClassifier     #Linear classifiers (SVM, logistic regression, a.o.) with SGD training.\n",
        "from sklearn.model_selection import GridSearchCV   #Exhaustive search over specified parameter values for an estimator. Important members are fit, predict."
      ]
    },
    {
      "cell_type": "code",
      "execution_count": 23,
      "metadata": {
        "id": "_SmkbbxQfZpE",
        "outputId": "9699278f-1ce4-41ab-8d44-c064c0ab44fc",
        "scrolled": true
      },
      "outputs": [
        {
          "ename": "TypeError",
          "evalue": "SGDClassifier.__init__() got an unexpected keyword argument 'n_iter'",
          "output_type": "error",
          "traceback": [
            "\u001b[1;31m---------------------------------------------------------------------------\u001b[0m",
            "\u001b[1;31mTypeError\u001b[0m                                 Traceback (most recent call last)",
            "\u001b[1;32mc:\\Users\\Emil\\Desktop\\Nicole\\NUS Fintech\\Group 9C\\Sem-Eval 2010 Task8\\Group-9C-Capstone\\Sem-Eval 2010 Task8.ipynb Cell 33\u001b[0m in \u001b[0;36m<cell line: 8>\u001b[1;34m()\u001b[0m\n\u001b[0;32m      <a href='vscode-notebook-cell:/c%3A/Users/Emil/Desktop/Nicole/NUS%20Fintech/Group%209C/Sem-Eval%202010%20Task8/Group-9C-Capstone/Sem-Eval%202010%20Task8.ipynb#X44sZmlsZQ%3D%3D?line=4'>5</a>\u001b[0m gs_clf \u001b[39m=\u001b[39m GridSearchCV(text_classification, parameters, n_jobs\u001b[39m=\u001b[39m\u001b[39m-\u001b[39m\u001b[39m1\u001b[39m)\n\u001b[0;32m      <a href='vscode-notebook-cell:/c%3A/Users/Emil/Desktop/Nicole/NUS%20Fintech/Group%209C/Sem-Eval%202010%20Task8/Group-9C-Capstone/Sem-Eval%202010%20Task8.ipynb#X44sZmlsZQ%3D%3D?line=5'>6</a>\u001b[0m gs_clf \u001b[39m=\u001b[39m gs_clf\u001b[39m.\u001b[39mfit(train_data, train_target)\n\u001b[0;32m      <a href='vscode-notebook-cell:/c%3A/Users/Emil/Desktop/Nicole/NUS%20Fintech/Group%209C/Sem-Eval%202010%20Task8/Group-9C-Capstone/Sem-Eval%202010%20Task8.ipynb#X44sZmlsZQ%3D%3D?line=7'>8</a>\u001b[0m text_classification \u001b[39m=\u001b[39m Pipeline([(\u001b[39m'\u001b[39m\u001b[39mvectorizer\u001b[39m\u001b[39m'\u001b[39m, CountVectorizer(ngram_range\u001b[39m=\u001b[39m(\u001b[39m1\u001b[39m,\u001b[39m3\u001b[39m))),\n\u001b[0;32m      <a href='vscode-notebook-cell:/c%3A/Users/Emil/Desktop/Nicole/NUS%20Fintech/Group%209C/Sem-Eval%202010%20Task8/Group-9C-Capstone/Sem-Eval%202010%20Task8.ipynb#X44sZmlsZQ%3D%3D?line=8'>9</a>\u001b[0m     (\u001b[39m'\u001b[39m\u001b[39mtfidftransformer\u001b[39m\u001b[39m'\u001b[39m, TfidfTransformer(use_idf\u001b[39m=\u001b[39m\u001b[39mTrue\u001b[39;00m)),\n\u001b[1;32m---> <a href='vscode-notebook-cell:/c%3A/Users/Emil/Desktop/Nicole/NUS%20Fintech/Group%209C/Sem-Eval%202010%20Task8/Group-9C-Capstone/Sem-Eval%202010%20Task8.ipynb#X44sZmlsZQ%3D%3D?line=9'>10</a>\u001b[0m     (\u001b[39m'\u001b[39m\u001b[39mclassification\u001b[39m\u001b[39m'\u001b[39m, SGDClassifier(loss\u001b[39m=\u001b[39;49m\u001b[39m'\u001b[39;49m\u001b[39msquared_hinge\u001b[39;49m\u001b[39m'\u001b[39;49m,\n\u001b[0;32m     <a href='vscode-notebook-cell:/c%3A/Users/Emil/Desktop/Nicole/NUS%20Fintech/Group%209C/Sem-Eval%202010%20Task8/Group-9C-Capstone/Sem-Eval%202010%20Task8.ipynb#X44sZmlsZQ%3D%3D?line=10'>11</a>\u001b[0m      penalty\u001b[39m=\u001b[39;49m\u001b[39m'\u001b[39;49m\u001b[39ml2\u001b[39;49m\u001b[39m'\u001b[39;49m,alpha\u001b[39m=\u001b[39;49m\u001b[39m2\u001b[39;49m\u001b[39m*\u001b[39;49m\u001b[39m1e-4\u001b[39;49m, n_iter\u001b[39m=\u001b[39;49m\u001b[39m800\u001b[39;49m, random_state\u001b[39m=\u001b[39;49m\u001b[39m100\u001b[39;49m,eta0\u001b[39m=\u001b[39;49m\u001b[39m0.0009\u001b[39;49m)),])\n\u001b[0;32m     <a href='vscode-notebook-cell:/c%3A/Users/Emil/Desktop/Nicole/NUS%20Fintech/Group%209C/Sem-Eval%202010%20Task8/Group-9C-Capstone/Sem-Eval%202010%20Task8.ipynb#X44sZmlsZQ%3D%3D?line=12'>13</a>\u001b[0m roop \u001b[39m=\u001b[39m text_classification\u001b[39m.\u001b[39mfit(train_data, train_target)\n\u001b[0;32m     <a href='vscode-notebook-cell:/c%3A/Users/Emil/Desktop/Nicole/NUS%20Fintech/Group%209C/Sem-Eval%202010%20Task8/Group-9C-Capstone/Sem-Eval%202010%20Task8.ipynb#X44sZmlsZQ%3D%3D?line=13'>14</a>\u001b[0m svm_prediction \u001b[39m=\u001b[39m text_classification\u001b[39m.\u001b[39mpredict(test_data)\n",
            "\u001b[1;31mTypeError\u001b[0m: SGDClassifier.__init__() got an unexpected keyword argument 'n_iter'"
          ]
        }
      ],
      "source": [
        "# We are now implementing the Support Vector Machine \n",
        "parameters = {'vectorizer__ngram_range': [(1, 3), (1, 3)],'tfidftransformer__use_idf': (True, False),\n",
        "'classification__alpha': (1e-2, 1e-3),'vectorizer__stop_words':('english',None)}\n",
        "\n",
        "gs_clf = GridSearchCV(text_classification, parameters, n_jobs=-1)\n",
        "gs_clf = gs_clf.fit(train_data, train_target)\n",
        "\n",
        "text_classification = Pipeline([('vectorizer', CountVectorizer(ngram_range=(1,3))),\n",
        "    ('tfidftransformer', TfidfTransformer(use_idf=True)),\n",
        "    ('classification', SGDClassifier(loss='squared_hinge',\n",
        "     penalty='l2',alpha=2*1e-4, n_iter=800, random_state=100,eta0=0.0009)),])\n",
        "\n",
        "roop = text_classification.fit(train_data, train_target)\n",
        "svm_prediction = text_classification.predict(test_data)\n",
        "\n",
        "#Support vector machine predicted values is saving to csv file\n",
        "np.savetxt(\"svm.csv\", svm_prediction, delimiter=\",\")\n",
        "\n",
        "svm_accuracy = np.mean(svm_prediction == test_target)\n",
        "print(\"Support Vector Machine Model Accuracy={} %\".format(svm_accuracy*100))\n"
      ]
    },
    {
      "cell_type": "code",
      "execution_count": null,
      "metadata": {
        "id": "ASlv-HGYfZpE"
      },
      "outputs": [],
      "source": [
        ""
      ]
    }
  ],
  "metadata": {
    "colab": {
      "name": "Sem-Eval 2010 Task8.ipynb",
      "provenance": [],
      "include_colab_link": true
    },
    "kernelspec": {
      "display_name": "Python 3.10.6 64-bit (windows store)",
      "language": "python",
      "name": "python3"
    },
    "language_info": {
      "codemirror_mode": {
        "name": "ipython",
        "version": 3
      },
      "file_extension": ".py",
      "mimetype": "text/x-python",
      "name": "python",
      "nbconvert_exporter": "python",
      "pygments_lexer": "ipython3",
      "version": "3.10.6"
    },
    "vscode": {
      "interpreter": {
        "hash": "6d37efe8b5696e020ff20f03281d74432cd5b58f0d8f4efefd34ea302a90c8b3"
      }
    }
  },
  "nbformat": 4,
  "nbformat_minor": 0
}